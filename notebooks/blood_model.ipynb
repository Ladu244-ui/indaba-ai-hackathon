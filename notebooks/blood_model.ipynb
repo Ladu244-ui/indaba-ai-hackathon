{
 "cells": [
  {
   "cell_type": "code",
   "execution_count": null,
   "id": "65a821fa",
   "metadata": {},
   "outputs": [],
   "source": [
    "# Cell 1: Load\n",
    "import pandas as pd\n",
    "train = pd.read_csv(\"../data/Blood_samples_dataset_balanced_2(f).csv\")\n",
    "test = pd.read_csv(\"../data/blood_samples_dataset_test.csv\")\n",
    "submission = pd.read_csv(\"../data/sample_submission.csv\")\n",
    "\n",
    "# Cell 2: Explore\n",
    "train.info()\n",
    "train.describe()\n",
    "train.isnull().sum()\n",
    "\n",
    "# Cell 3: Prep\n",
    "from sklearn.preprocessing import StandardScaler\n",
    "X = train.drop(columns=['label'])\n",
    "y = train['label']\n",
    "\n",
    "scaler = StandardScaler()\n",
    "X_scaled = scaler.fit_transform(X)\n",
    "X_test_scaled = scaler.transform(test)\n",
    "\n",
    "# Cell 4: Model\n",
    "from lightgbm import LGBMRegressor\n",
    "from sklearn.model_selection import train_test_split\n",
    "from sklearn.metrics import mean_squared_error\n",
    "\n",
    "X_train, X_val, y_train, y_val = train_test_split(X_scaled, y, test_size=0.2)\n",
    "model = LGBMRegressor()\n",
    "model.fit(X_train, y_train)\n",
    "\n",
    "val_preds = model.predict(X_val)\n",
    "print(\"RMSE:\", mean_squared_error(y_val, val_preds, squared=False))\n",
    "\n",
    "# Cell 5: Predict + Submit\n",
    "test_preds = model.predict(X_test_scaled)\n",
    "submission['label'] = test_preds\n",
    "submission.to_csv(\"../outputs/submission.csv\", index=False)\n"
   ]
  }
 ],
 "metadata": {
  "language_info": {
   "name": "python"
  }
 },
 "nbformat": 4,
 "nbformat_minor": 5
}
